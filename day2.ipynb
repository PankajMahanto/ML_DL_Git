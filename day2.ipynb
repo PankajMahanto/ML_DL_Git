{
 "cells": [
  {
   "cell_type": "code",
   "execution_count": 1,
   "id": "256d4e28",
   "metadata": {},
   "outputs": [
    {
     "data": {
      "text/plain": [
       "['_BUILT_WITH_MESON',\n",
       " '__SKLEARN_SETUP__',\n",
       " '__all__',\n",
       " '__builtins__',\n",
       " '__cached__',\n",
       " '__check_build',\n",
       " '__doc__',\n",
       " '__file__',\n",
       " '__loader__',\n",
       " '__name__',\n",
       " '__package__',\n",
       " '__path__',\n",
       " '__spec__',\n",
       " '__version__',\n",
       " '_built_with_meson',\n",
       " '_config',\n",
       " '_distributor_init',\n",
       " 'base',\n",
       " 'clone',\n",
       " 'config_context',\n",
       " 'exceptions',\n",
       " 'externals',\n",
       " 'get_config',\n",
       " 'logger',\n",
       " 'logging',\n",
       " 'os',\n",
       " 'random',\n",
       " 'set_config',\n",
       " 'setup_module',\n",
       " 'show_versions',\n",
       " 'sklearn',\n",
       " 'sys',\n",
       " 'utils']"
      ]
     },
     "execution_count": 1,
     "metadata": {},
     "output_type": "execute_result"
    }
   ],
   "source": [
    "import sklearn \n",
    "dir(sklearn)"
   ]
  },
  {
   "cell_type": "code",
   "execution_count": 3,
   "id": "9fd74fa8",
   "metadata": {},
   "outputs": [
    {
     "name": "stdout",
     "output_type": "stream",
     "text": [
      "__check_build\n",
      "_build_utils\n",
      "_built_with_meson\n",
      "_config\n",
      "_distributor_init\n",
      "_isotonic\n",
      "_loss\n",
      "_min_dependencies\n",
      "base\n",
      "calibration\n",
      "cluster\n",
      "compose\n",
      "conftest\n",
      "covariance\n",
      "cross_decomposition\n",
      "datasets\n",
      "decomposition\n",
      "discriminant_analysis\n",
      "dummy\n",
      "ensemble\n",
      "exceptions\n",
      "experimental\n",
      "externals\n",
      "feature_extraction\n",
      "feature_selection\n",
      "gaussian_process\n",
      "impute\n",
      "inspection\n",
      "isotonic\n",
      "kernel_approximation\n",
      "kernel_ridge\n",
      "linear_model\n",
      "manifold\n",
      "metrics\n",
      "mixture\n",
      "model_selection\n",
      "multiclass\n",
      "multioutput\n",
      "naive_bayes\n",
      "neighbors\n",
      "neural_network\n",
      "pipeline\n",
      "preprocessing\n",
      "random_projection\n",
      "semi_supervised\n",
      "svm\n",
      "tests\n",
      "tree\n",
      "utils\n"
     ]
    }
   ],
   "source": [
    "import pkgutil \n",
    "for x in pkgutil.iter_modules(sklearn.__path__):\n",
    "    print(x.name)"
   ]
  },
  {
   "cell_type": "code",
   "execution_count": null,
   "id": "2aacd9e2",
   "metadata": {},
   "outputs": [],
   "source": [
    "# git config --global user.name “[firstname lastname]”\n",
    "#  set a name that is identifiable for credit when review version history\n",
    "#  git config --global user.email “[valid-email]”\n",
    "#  set an email address that will be associated with each history marker"
   ]
  },
  {
   "cell_type": "markdown",
   "id": "27bac3fe",
   "metadata": {},
   "source": [
    "## new block add here"
   ]
  },
  {
   "cell_type": "code",
   "execution_count": 1,
   "id": "899186fd",
   "metadata": {},
   "outputs": [
    {
     "data": {
      "text/plain": [
       "['ARDRegression',\n",
       " 'BayesianRidge',\n",
       " 'ElasticNet',\n",
       " 'ElasticNetCV',\n",
       " 'GammaRegressor',\n",
       " 'Hinge',\n",
       " 'Huber',\n",
       " 'HuberRegressor',\n",
       " 'Lars',\n",
       " 'LarsCV',\n",
       " 'Lasso',\n",
       " 'LassoCV',\n",
       " 'LassoLars',\n",
       " 'LassoLarsCV',\n",
       " 'LassoLarsIC',\n",
       " 'LinearRegression',\n",
       " 'Log',\n",
       " 'LogisticRegression',\n",
       " 'LogisticRegressionCV',\n",
       " 'ModifiedHuber',\n",
       " 'MultiTaskElasticNet',\n",
       " 'MultiTaskElasticNetCV',\n",
       " 'MultiTaskLasso',\n",
       " 'MultiTaskLassoCV',\n",
       " 'OrthogonalMatchingPursuit',\n",
       " 'OrthogonalMatchingPursuitCV',\n",
       " 'PassiveAggressiveClassifier',\n",
       " 'PassiveAggressiveRegressor',\n",
       " 'Perceptron',\n",
       " 'PoissonRegressor',\n",
       " 'QuantileRegressor',\n",
       " 'RANSACRegressor',\n",
       " 'Ridge',\n",
       " 'RidgeCV',\n",
       " 'RidgeClassifier',\n",
       " 'RidgeClassifierCV',\n",
       " 'SGDClassifier',\n",
       " 'SGDOneClassSVM',\n",
       " 'SGDRegressor',\n",
       " 'SquaredLoss',\n",
       " 'TheilSenRegressor',\n",
       " 'TweedieRegressor',\n",
       " '__all__',\n",
       " '__builtins__',\n",
       " '__cached__',\n",
       " '__doc__',\n",
       " '__file__',\n",
       " '__loader__',\n",
       " '__name__',\n",
       " '__package__',\n",
       " '__path__',\n",
       " '__spec__',\n",
       " '_base',\n",
       " '_bayes',\n",
       " '_cd_fast',\n",
       " '_coordinate_descent',\n",
       " '_glm',\n",
       " '_huber',\n",
       " '_least_angle',\n",
       " '_linear_loss',\n",
       " '_logistic',\n",
       " '_omp',\n",
       " '_passive_aggressive',\n",
       " '_perceptron',\n",
       " '_quantile',\n",
       " '_ransac',\n",
       " '_ridge',\n",
       " '_sag',\n",
       " '_sag_fast',\n",
       " '_sgd_fast',\n",
       " '_stochastic_gradient',\n",
       " '_theil_sen',\n",
       " 'enet_path',\n",
       " 'lars_path',\n",
       " 'lars_path_gram',\n",
       " 'lasso_path',\n",
       " 'orthogonal_mp',\n",
       " 'orthogonal_mp_gram',\n",
       " 'ridge_regression']"
      ]
     },
     "execution_count": 1,
     "metadata": {},
     "output_type": "execute_result"
    }
   ],
   "source": [
    "from sklearn import linear_model as lm\n",
    "dir(lm)"
   ]
  },
  {
   "cell_type": "code",
   "execution_count": null,
   "id": "3311c78f",
   "metadata": {},
   "outputs": [],
   "source": []
  }
 ],
 "metadata": {
  "kernelspec": {
   "display_name": "base",
   "language": "python",
   "name": "python3"
  },
  "language_info": {
   "codemirror_mode": {
    "name": "ipython",
    "version": 3
   },
   "file_extension": ".py",
   "mimetype": "text/x-python",
   "name": "python",
   "nbconvert_exporter": "python",
   "pygments_lexer": "ipython3",
   "version": "3.12.7"
  }
 },
 "nbformat": 4,
 "nbformat_minor": 5
}
